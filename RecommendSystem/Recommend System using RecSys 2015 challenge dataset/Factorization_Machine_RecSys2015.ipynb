{
 "cells": [
  {
   "cell_type": "code",
   "execution_count": 7,
   "metadata": {
    "scrolled": false
   },
   "outputs": [],
   "source": [
    "import pandas as pd\n",
    "from collections import Counter\n",
    "import tensorflow as tf\n",
    "from tffm import TFFMRegressor\n",
    "from sklearn.metrics import mean_squared_error\n",
    "from sklearn.model_selection import train_test_split\n",
    "import numpy as np\n",
    "\n",
    "# Loading datasets'\n",
    "\n",
    "buys = open('yoochoose-buys.dat', 'r')\n",
    "clicks = open('yoochoose-clicks.dat', 'r')\n",
    "\n",
    "initial_buys_df = pd.read_csv(buys, names=['Session ID', 'Timestamp', 'Item ID', 'Category', 'Quantity'],\n",
    "                              dtype={'Session ID': 'float32', 'Timestamp': 'str', 'Item ID': 'float32',\n",
    "                                     'Category': 'str'})\n",
    "\n",
    "initial_buys_df.set_index('Session ID', inplace=True)\n",
    "\n",
    "initial_clicks_df = pd.read_csv(clicks, names=['Session ID', 'Timestamp', 'Item ID', 'Category'],\n",
    "                                dtype={'Category': 'str'})\n",
    "\n",
    "initial_clicks_df.set_index('Session ID', inplace=True)\n",
    "\n",
    "# We won't use timestamps in this example\n",
    "\n",
    "initial_buys_df = initial_buys_df.drop('Timestamp', 1)\n",
    "initial_clicks_df = initial_clicks_df.drop('Timestamp', 1)\n",
    "\n",
    "# For illustrative purposes, we will only use a subset of the data: top 10000 buying users,\n",
    "\n",
    "x = Counter(initial_buys_df.index).most_common(10000)\n",
    "top_k = dict(x).keys()\n",
    "\n",
    "initial_buys_df = initial_buys_df[initial_buys_df.index.isin(top_k)]\n",
    "initial_clicks_df = initial_clicks_df[initial_clicks_df.index.isin(top_k)]\n",
    "\n",
    "# Create a copy of the index, since we will also apply one-hot encoding on the index\n",
    "\n",
    "initial_buys_df['_Session ID'] = initial_buys_df.index"
   ]
  },
  {
   "cell_type": "code",
   "execution_count": 8,
   "metadata": {},
   "outputs": [],
   "source": [
    "# One-hot encode all columns for clicks and buys \n",
    "transformed_buys = pd.get_dummies(initial_buys_df)\n",
    "transformed_clicks = pd.get_dummies(initial_clicks_df)\n",
    "\n",
    "# Aggregate historical data for Items and Categories\n",
    "\n",
    "filtered_buys = transformed_buys.filter(regex=\"Item.*|Category.*\")\n",
    "filtered_clicks = transformed_clicks.filter(regex=\"Item.*|Category.*\")\n",
    "\n",
    "historical_buy_data = filtered_buys.groupby(filtered_buys.index).sum()\n",
    "historical_buy_data = historical_buy_data.rename(columns=lambda column_name: 'buy history:' + column_name)\n",
    "\n",
    "historical_click_data = filtered_clicks.groupby(filtered_clicks.index).sum()\n",
    "historical_click_data = historical_click_data.rename(columns=lambda column_name: 'click history:' + column_name)"
   ]
  },
  {
   "cell_type": "code",
   "execution_count": 9,
   "metadata": {},
   "outputs": [],
   "source": [
    "# Merge historical data of every user_id\n",
    "merged1 = pd.merge(transformed_buys, historical_buy_data, left_index=True, right_index=True)\n",
    "merged2 = pd.merge(merged1, historical_click_data, left_index=True, right_index=True)"
   ]
  },
  {
   "cell_type": "code",
   "execution_count": 10,
   "metadata": {
    "scrolled": true
   },
   "outputs": [
    {
     "name": "stderr",
     "output_type": "stream",
     "text": [
      "100%|█████████████████████████████████████████████████████████████████████████████| 100/100 [03:43<00:00,  2.22s/epoch]\n"
     ]
    },
    {
     "name": "stdout",
     "output_type": "stream",
     "text": [
      "MSE: 0.20218075814730252\n",
      "Cold-start MSE: 0.7778071691829045\n"
     ]
    }
   ],
   "source": [
    "# Create the MF model, you can play around with the parameters \n",
    "\n",
    "model = TFFMRegressor(\n",
    "    order=2,\n",
    "    rank=7,\n",
    "    optimizer=tf.train.AdamOptimizer(learning_rate=0.1),\n",
    "    n_epochs=100,\n",
    "    batch_size=-1,\n",
    "    init_std=0.001,\n",
    "    input_type='dense'\n",
    ")\n",
    "\n",
    "merged2.drop(['Item ID', '_Session ID', 'click history:Item ID', 'buy history:Item ID'], 1, inplace=True)\n",
    "X = np.array(merged2)\n",
    "X = np.nan_to_num(X)\n",
    "y = np.array(merged2['Quantity'].as_matrix())\n",
    "\n",
    "# Split data into train, test\n",
    "\n",
    "X_tr, X_te, y_tr, y_te = train_test_split(X, y, test_size=0.2)\n",
    "\n",
    "#Split testing data in half: Full information vs Cold-start\n",
    "\n",
    "X_te, X_te_cs, y_te, y_te_cs = train_test_split(X_te, y_te, test_size=0.5)\n",
    "cold_start = pd.DataFrame(X_te_cs, columns=merged2.columns)\n",
    "\n",
    "# What happens if we only have access to categories and no historical click/purchase data?\n",
    "# Let's delete historical click and purchasing data for the cold_start test set\n",
    "\n",
    "for column in cold_start.columns:\n",
    "    if ('buy' in column or 'click' in column) and ('Category' in column):\n",
    "        cold_start[column] = 0\n",
    "\n",
    "# Compute the mean squared error for both test sets\n",
    "\n",
    "model.fit(X_tr, y_tr, show_progress=True)\n",
    "predictions = model.predict(X_te)\n",
    "cold_start_predictions = model.predict(X_te_cs)\n",
    "print('MSE: {}'.format(mean_squared_error(y_te, predictions)))\n",
    "print('Cold-start MSE: {}'.format(mean_squared_error(y_te_cs, cold_start_predictions)))\n",
    "model.destroy()\n",
    "\n",
    "# Fun fact: Dropping the category columns in the training dataset makes the MSE even smaller \n",
    "# but doing so means that we cannot tackle the cold-start recommendation problem "
   ]
  },
  {
   "cell_type": "code",
   "execution_count": null,
   "metadata": {},
   "outputs": [],
   "source": []
  },
  {
   "cell_type": "code",
   "execution_count": null,
   "metadata": {},
   "outputs": [],
   "source": []
  }
 ],
 "metadata": {
  "kernelspec": {
   "display_name": "Python 3",
   "language": "python",
   "name": "python3"
  },
  "language_info": {
   "codemirror_mode": {
    "name": "ipython",
    "version": 3
   },
   "file_extension": ".py",
   "mimetype": "text/x-python",
   "name": "python",
   "nbconvert_exporter": "python",
   "pygments_lexer": "ipython3",
   "version": "3.6.3"
  }
 },
 "nbformat": 4,
 "nbformat_minor": 2
}
